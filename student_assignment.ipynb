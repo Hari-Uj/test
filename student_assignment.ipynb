{
 "cells": [
  {
   "cell_type": "code",
   "execution_count": 110,
   "id": "4427472b-8e11-4f0d-86a1-fc6d8a2804ae",
   "metadata": {},
   "outputs": [],
   "source": [
    "import pandas as pd\n",
    "import numpy as np\n",
    "import seaborn as sns\n",
    "import matplotlib.pyplot as plt\n",
    "from sklearn.preprocessing import StandardScaler"
   ]
  },
  {
   "cell_type": "code",
   "execution_count": 111,
   "id": "d4f0ee58-c605-41f8-a498-cc01b3abb2ba",
   "metadata": {},
   "outputs": [],
   "source": [
    "data = pd.read_csv(\"student_assignment.csv\")"
   ]
  },
  {
   "cell_type": "code",
   "execution_count": 112,
   "id": "e2083a3b-e6b7-4f92-bf00-5eb4f69a4010",
   "metadata": {},
   "outputs": [
    {
     "data": {
      "text/html": [
       "<div>\n",
       "<style scoped>\n",
       "    .dataframe tbody tr th:only-of-type {\n",
       "        vertical-align: middle;\n",
       "    }\n",
       "\n",
       "    .dataframe tbody tr th {\n",
       "        vertical-align: top;\n",
       "    }\n",
       "\n",
       "    .dataframe thead th {\n",
       "        text-align: right;\n",
       "    }\n",
       "</style>\n",
       "<table border=\"1\" class=\"dataframe\">\n",
       "  <thead>\n",
       "    <tr style=\"text-align: right;\">\n",
       "      <th></th>\n",
       "      <th>Age</th>\n",
       "      <th>Income</th>\n",
       "      <th>Is Student</th>\n",
       "      <th>Num Children</th>\n",
       "      <th>Temperature</th>\n",
       "      <th>Rating</th>\n",
       "    </tr>\n",
       "  </thead>\n",
       "  <tbody>\n",
       "    <tr>\n",
       "      <th>0</th>\n",
       "      <td>43.0</td>\n",
       "      <td>45893.41</td>\n",
       "      <td>True</td>\n",
       "      <td>0.0</td>\n",
       "      <td>38.2</td>\n",
       "      <td>2.6</td>\n",
       "    </tr>\n",
       "    <tr>\n",
       "      <th>1</th>\n",
       "      <td>56.0</td>\n",
       "      <td>69663.07</td>\n",
       "      <td>True</td>\n",
       "      <td>1.0</td>\n",
       "      <td>38.7</td>\n",
       "      <td>3.2</td>\n",
       "    </tr>\n",
       "    <tr>\n",
       "      <th>2</th>\n",
       "      <td>NaN</td>\n",
       "      <td>45124.06</td>\n",
       "      <td>False</td>\n",
       "      <td>5.0</td>\n",
       "      <td>36.9</td>\n",
       "      <td>3.9</td>\n",
       "    </tr>\n",
       "    <tr>\n",
       "      <th>3</th>\n",
       "      <td>37.0</td>\n",
       "      <td>76724.60</td>\n",
       "      <td>False</td>\n",
       "      <td>2.0</td>\n",
       "      <td>41.6</td>\n",
       "      <td>2.5</td>\n",
       "    </tr>\n",
       "    <tr>\n",
       "      <th>4</th>\n",
       "      <td>53.0</td>\n",
       "      <td>58343.03</td>\n",
       "      <td>False</td>\n",
       "      <td>1.0</td>\n",
       "      <td>36.5</td>\n",
       "      <td>3.3</td>\n",
       "    </tr>\n",
       "    <tr>\n",
       "      <th>...</th>\n",
       "      <td>...</td>\n",
       "      <td>...</td>\n",
       "      <td>...</td>\n",
       "      <td>...</td>\n",
       "      <td>...</td>\n",
       "      <td>...</td>\n",
       "    </tr>\n",
       "    <tr>\n",
       "      <th>99</th>\n",
       "      <td>42.0</td>\n",
       "      <td>46673.04</td>\n",
       "      <td>False</td>\n",
       "      <td>5.0</td>\n",
       "      <td>38.8</td>\n",
       "      <td>10.9</td>\n",
       "    </tr>\n",
       "    <tr>\n",
       "      <th>100</th>\n",
       "      <td>35.0</td>\n",
       "      <td>27089.59</td>\n",
       "      <td>True</td>\n",
       "      <td>5.0</td>\n",
       "      <td>35.3</td>\n",
       "      <td>1.6</td>\n",
       "    </tr>\n",
       "    <tr>\n",
       "      <th>101</th>\n",
       "      <td>61.0</td>\n",
       "      <td>83082.63</td>\n",
       "      <td>True</td>\n",
       "      <td>4.0</td>\n",
       "      <td>35.6</td>\n",
       "      <td>3.7</td>\n",
       "    </tr>\n",
       "    <tr>\n",
       "      <th>102</th>\n",
       "      <td>39.0</td>\n",
       "      <td>61868.49</td>\n",
       "      <td>True</td>\n",
       "      <td>5.0</td>\n",
       "      <td>37.1</td>\n",
       "      <td>3.8</td>\n",
       "    </tr>\n",
       "    <tr>\n",
       "      <th>103</th>\n",
       "      <td>47.0</td>\n",
       "      <td>59526.59</td>\n",
       "      <td>False</td>\n",
       "      <td>3.0</td>\n",
       "      <td>36.7</td>\n",
       "      <td>3.2</td>\n",
       "    </tr>\n",
       "  </tbody>\n",
       "</table>\n",
       "<p>104 rows × 6 columns</p>\n",
       "</div>"
      ],
      "text/plain": [
       "      Age    Income Is Student  Num Children  Temperature  Rating\n",
       "0    43.0  45893.41       True           0.0         38.2     2.6\n",
       "1    56.0  69663.07       True           1.0         38.7     3.2\n",
       "2     NaN  45124.06      False           5.0         36.9     3.9\n",
       "3    37.0  76724.60      False           2.0         41.6     2.5\n",
       "4    53.0  58343.03      False           1.0         36.5     3.3\n",
       "..    ...       ...        ...           ...          ...     ...\n",
       "99   42.0  46673.04      False           5.0         38.8    10.9\n",
       "100  35.0  27089.59       True           5.0         35.3     1.6\n",
       "101  61.0  83082.63       True           4.0         35.6     3.7\n",
       "102  39.0  61868.49       True           5.0         37.1     3.8\n",
       "103  47.0  59526.59      False           3.0         36.7     3.2\n",
       "\n",
       "[104 rows x 6 columns]"
      ]
     },
     "execution_count": 112,
     "metadata": {},
     "output_type": "execute_result"
    }
   ],
   "source": [
    "data"
   ]
  },
  {
   "cell_type": "code",
   "execution_count": 113,
   "id": "5878ba1f-f8c6-4f61-b9c9-4bd55494c233",
   "metadata": {},
   "outputs": [
    {
     "data": {
      "text/plain": [
       "Age             1\n",
       "Income          0\n",
       "Is Student      0\n",
       "Num Children    3\n",
       "Temperature     0\n",
       "Rating          0\n",
       "dtype: int64"
      ]
     },
     "execution_count": 113,
     "metadata": {},
     "output_type": "execute_result"
    }
   ],
   "source": [
    "data.isna().sum()"
   ]
  },
  {
   "cell_type": "code",
   "execution_count": 114,
   "id": "20d65ece-9144-4a69-8472-65e3816b5185",
   "metadata": {},
   "outputs": [
    {
     "name": "stdout",
     "output_type": "stream",
     "text": [
      "<class 'pandas.core.frame.DataFrame'>\n",
      "RangeIndex: 104 entries, 0 to 103\n",
      "Data columns (total 6 columns):\n",
      " #   Column        Non-Null Count  Dtype  \n",
      "---  ------        --------------  -----  \n",
      " 0   Age           103 non-null    float64\n",
      " 1   Income        104 non-null    float64\n",
      " 2   Is Student    104 non-null    object \n",
      " 3   Num Children  101 non-null    float64\n",
      " 4   Temperature   104 non-null    float64\n",
      " 5   Rating        104 non-null    float64\n",
      "dtypes: float64(5), object(1)\n",
      "memory usage: 5.0+ KB\n"
     ]
    }
   ],
   "source": [
    "data.info()"
   ]
  },
  {
   "cell_type": "code",
   "execution_count": 115,
   "id": "e7d4b03c-fa9f-4272-b12b-1bd63aaab8ff",
   "metadata": {},
   "outputs": [
    {
     "data": {
      "text/plain": [
       "3"
      ]
     },
     "execution_count": 115,
     "metadata": {},
     "output_type": "execute_result"
    }
   ],
   "source": [
    "data. duplicated().sum()"
   ]
  },
  {
   "cell_type": "code",
   "execution_count": 116,
   "id": "b2f452cd-ee9c-4fe9-b0ae-8280c6a70649",
   "metadata": {},
   "outputs": [],
   "source": [
    "data = data.drop_duplicates()"
   ]
  },
  {
   "cell_type": "code",
   "execution_count": 117,
   "id": "13c48315-8698-439b-a638-3fb615143986",
   "metadata": {},
   "outputs": [
    {
     "data": {
      "text/plain": [
       "0"
      ]
     },
     "execution_count": 117,
     "metadata": {},
     "output_type": "execute_result"
    }
   ],
   "source": [
    "data. duplicated().sum()"
   ]
  },
  {
   "cell_type": "code",
   "execution_count": 118,
   "id": "1acdfa6b-ec62-402e-be6d-67db7a7b3d2b",
   "metadata": {},
   "outputs": [
    {
     "data": {
      "text/plain": [
       "Age             1\n",
       "Income          0\n",
       "Is Student      0\n",
       "Num Children    3\n",
       "Temperature     0\n",
       "Rating          0\n",
       "dtype: int64"
      ]
     },
     "execution_count": 118,
     "metadata": {},
     "output_type": "execute_result"
    }
   ],
   "source": [
    "data.isna().sum()"
   ]
  },
  {
   "cell_type": "code",
   "execution_count": 119,
   "id": "00fe583a-6a67-48fa-b22b-a37731db542a",
   "metadata": {},
   "outputs": [
    {
     "data": {
      "text/plain": [
       "<AxesSubplot:>"
      ]
     },
     "execution_count": 119,
     "metadata": {},
     "output_type": "execute_result"
    },
    {
     "data": {
      "image/png": "[encoded data removed]",
      "text/plain": [
       "<Figure size 432x288 with 1 Axes>"
      ]
     },
     "metadata": {
      "needs_background": "light"
     },
     "output_type": "display_data"
    }
   ],
   "source": [
    "data['Age'].plot(kind = 'box')"
   ]
  },
  {
   "cell_type": "code",
   "execution_count": 120,
   "id": "3c07e291-280d-41a6-a491-676b9665df9f",
   "metadata": {},
   "outputs": [
    {
     "name": "stdout",
     "output_type": "stream",
     "text": [
      "Age\n",
      "Outliers =  7     511.0\n",
      "19    301.0\n",
      "47    438.0\n",
      "Name: Age, dtype: float64\n",
      "Income\n",
      "Outliers =  Series([], Name: Income, dtype: float64)\n",
      "Num Children\n",
      "Outliers =  82    40.0\n",
      "Name: Num Children, dtype: float64\n",
      "Temperature\n",
      "Outliers =  Series([], Name: Temperature, dtype: float64)\n"
     ]
    }
   ],
   "source": [
    "for col_name in data.select_dtypes(include=np.number).columns[:-1]:\n",
    "    print(col_name)\n",
    "    q1 = data[col_name].quantile(0.25)\n",
    "    q3 = data[col_name].quantile(0.75)\n",
    "    iqr = q3 - q1\n",
    "    \n",
    "    low = q1-1.5*iqr\n",
    "    high = q3+1.5*iqr\n",
    "    print(\"Outliers = \",data.loc[(data[col_name] < low) | (data[col_name] > high), col_name])"
   ]
  },
  {
   "cell_type": "code",
   "execution_count": 121,
   "id": "ae73bf60-75f1-4750-9e58-cf912449fd0d",
   "metadata": {},
   "outputs": [],
   "source": [
    "data = data[~(data['Age']>100)]"
   ]
  },
  {
   "cell_type": "code",
   "execution_count": 122,
   "id": "3c29137c-9c82-45e6-b9a6-391c6ceab1aa",
   "metadata": {},
   "outputs": [
    {
     "data": {
      "text/plain": [
       "<AxesSubplot:>"
      ]
     },
     "execution_count": 122,
     "metadata": {},
     "output_type": "execute_result"
    },
    {
     "data": {
      "image/png": "[encoded data removed]",
      "text/plain": [
       "<Figure size 432x288 with 1 Axes>"
      ]
     },
     "metadata": {
      "needs_background": "light"
     },
     "output_type": "display_data"
    }
   ],
   "source": [
    "data['Age'].plot(kind = 'box')"
   ]
  },
  {
   "cell_type": "code",
   "execution_count": 123,
   "id": "c5c5199c-0d4b-42eb-a9e1-830804d8efbe",
   "metadata": {},
   "outputs": [
    {
     "data": {
      "text/plain": [
       "1"
      ]
     },
     "execution_count": 123,
     "metadata": {},
     "output_type": "execute_result"
    }
   ],
   "source": [
    "data['Age'].isna().sum()"
   ]
  },
  {
   "cell_type": "code",
   "execution_count": 124,
   "id": "4c73be05-c703-41e3-9605-737468752f50",
   "metadata": {},
   "outputs": [
    {
     "data": {
      "text/plain": [
       "41.0"
      ]
     },
     "execution_count": 124,
     "metadata": {},
     "output_type": "execute_result"
    }
   ],
   "source": [
    "data['Age'].median()"
   ]
  },
  {
   "cell_type": "code",
   "execution_count": 125,
   "id": "b1105fe7-22b4-4c87-94ff-fadc91fbb9c8",
   "metadata": {},
   "outputs": [],
   "source": [
    "data['Age'].fillna(data['Age'].median(), inplace = True)"
   ]
  },
  {
   "cell_type": "code",
   "execution_count": 126,
   "id": "a2ad36f6-d4db-4bcb-8059-9bd455c152ed",
   "metadata": {},
   "outputs": [
    {
     "data": {
      "text/plain": [
       "Age             0\n",
       "Income          0\n",
       "Is Student      0\n",
       "Num Children    2\n",
       "Temperature     0\n",
       "Rating          0\n",
       "dtype: int64"
      ]
     },
     "execution_count": 126,
     "metadata": {},
     "output_type": "execute_result"
    }
   ],
   "source": [
    "data.isna().sum()"
   ]
  },
  {
   "cell_type": "code",
   "execution_count": 127,
   "id": "5e34c656-322d-4de4-8c70-c860f7d05673",
   "metadata": {},
   "outputs": [
    {
     "data": {
      "text/plain": [
       "0      45893.41\n",
       "1      69663.07\n",
       "2      45124.06\n",
       "3      76724.60\n",
       "4      58343.03\n",
       "         ...   \n",
       "96     90964.58\n",
       "97     70679.33\n",
       "98     97052.37\n",
       "99     46673.04\n",
       "101    83082.63\n",
       "Name: Income, Length: 98, dtype: float64"
      ]
     },
     "execution_count": 127,
     "metadata": {},
     "output_type": "execute_result"
    }
   ],
   "source": [
    "data['Income']"
   ]
  },
  {
   "cell_type": "code",
   "execution_count": 128,
   "id": "ee3d051c-9082-4924-8ce6-7309743229ec",
   "metadata": {},
   "outputs": [
    {
     "data": {
      "text/plain": [
       "<AxesSubplot:>"
      ]
     },
     "execution_count": 128,
     "metadata": {},
     "output_type": "execute_result"
    },
    {
     "data": {
      "image/png": "[encoded data removed]",
      "text/plain": [
       "<Figure size 432x288 with 1 Axes>"
      ]
     },
     "metadata": {
      "needs_background": "light"
     },
     "output_type": "display_data"
    }
   ],
   "source": [
    "data['Income'].plot(kind = \"box\")"
   ]
  },
  {
   "cell_type": "code",
   "execution_count": 129,
   "id": "5bd3cef2-fc75-4678-b85b-d977de63c618",
   "metadata": {},
   "outputs": [
    {
     "data": {
      "text/plain": [
       "0"
      ]
     },
     "execution_count": 129,
     "metadata": {},
     "output_type": "execute_result"
    }
   ],
   "source": [
    "data['Is Student'].isna().sum()"
   ]
  },
  {
   "cell_type": "code",
   "execution_count": 130,
   "id": "f3e88021-bc09-4b94-9eb3-6156f576331f",
   "metadata": {},
   "outputs": [
    {
     "data": {
      "text/plain": [
       "96"
      ]
     },
     "execution_count": 130,
     "metadata": {},
     "output_type": "execute_result"
    }
   ],
   "source": [
    "data['Num Children'].count()"
   ]
  },
  {
   "cell_type": "code",
   "execution_count": 131,
   "id": "101387d4-662f-4b13-a4df-b13fcb3b772d",
   "metadata": {},
   "outputs": [
    {
     "data": {
      "text/plain": [
       "<AxesSubplot:>"
      ]
     },
     "execution_count": 131,
     "metadata": {},
     "output_type": "execute_result"
    },
    {
     "data": {
      "image/png": "[encoded data removed]",
      "text/plain": [
       "<Figure size 432x288 with 1 Axes>"
      ]
     },
     "metadata": {
      "needs_background": "light"
     },
     "output_type": "display_data"
    }
   ],
   "source": [
    "data['Num Children'].plot(kind = 'box')"
   ]
  },
  {
   "cell_type": "code",
   "execution_count": 132,
   "id": "9d5b4496-f1f6-4b1b-92c1-c57058c0066e",
   "metadata": {},
   "outputs": [
    {
     "data": {
      "text/plain": [
       "array([ 0.,  1.,  5.,  2.,  3.,  4., nan, 40.])"
      ]
     },
     "execution_count": 132,
     "metadata": {},
     "output_type": "execute_result"
    }
   ],
   "source": [
    "data['Num Children'].unique()"
   ]
  },
  {
   "cell_type": "code",
   "execution_count": 133,
   "id": "d9489bee-72bb-4fc7-bbc0-3cabc147aae0",
   "metadata": {},
   "outputs": [
    {
     "data": {
      "text/plain": [
       "3.0520833333333335"
      ]
     },
     "execution_count": 133,
     "metadata": {},
     "output_type": "execute_result"
    }
   ],
   "source": [
    "data['Num Children'].mean()"
   ]
  },
  {
   "cell_type": "code",
   "execution_count": 134,
   "id": "d7e580dd-ea8c-4b3f-8d86-752d68957091",
   "metadata": {},
   "outputs": [
    {
     "data": {
      "text/plain": [
       "3.0"
      ]
     },
     "execution_count": 134,
     "metadata": {},
     "output_type": "execute_result"
    }
   ],
   "source": [
    "data['Num Children'].median()"
   ]
  },
  {
   "cell_type": "code",
   "execution_count": 135,
   "id": "7b15ebee-37bd-46da-a2eb-473a0dd50f16",
   "metadata": {},
   "outputs": [],
   "source": [
    "data ['Num Children'].fillna(data['Num Children'].median(), inplace = True)"
   ]
  },
  {
   "cell_type": "code",
   "execution_count": 136,
   "id": "96d0a658-425a-4498-8300-4b223f317aac",
   "metadata": {},
   "outputs": [
    {
     "data": {
      "text/plain": [
       "0"
      ]
     },
     "execution_count": 136,
     "metadata": {},
     "output_type": "execute_result"
    }
   ],
   "source": [
    "data['Num Children'].isna().sum()"
   ]
  },
  {
   "cell_type": "code",
   "execution_count": 137,
   "id": "e8cb1eb3-2409-413d-92d9-99a72ea8e0e3",
   "metadata": {},
   "outputs": [
    {
     "data": {
      "text/plain": [
       "Age             0\n",
       "Income          0\n",
       "Is Student      0\n",
       "Num Children    0\n",
       "Temperature     0\n",
       "Rating          0\n",
       "dtype: int64"
      ]
     },
     "execution_count": 137,
     "metadata": {},
     "output_type": "execute_result"
    }
   ],
   "source": [
    "data.isna().sum()"
   ]
  },
  {
   "cell_type": "code",
   "execution_count": 138,
   "id": "59f105ff-15d0-45e6-8bd3-fdd3920ad6aa",
   "metadata": {},
   "outputs": [
    {
     "data": {
      "text/plain": [
       "<AxesSubplot:>"
      ]
     },
     "execution_count": 138,
     "metadata": {},
     "output_type": "execute_result"
    },
    {
     "data": {
      "image/png": "[encoded data removed]",
      "text/plain": [
       "<Figure size 432x288 with 1 Axes>"
      ]
     },
     "metadata": {
      "needs_background": "light"
     },
     "output_type": "display_data"
    }
   ],
   "source": [
    "data['Rating'].plot(kind = 'box')"
   ]
  },
  {
   "cell_type": "code",
   "execution_count": 139,
   "id": "49fda386-9be2-4555-b2e6-ee4412d63a0e",
   "metadata": {},
   "outputs": [
    {
     "data": {
      "text/plain": [
       "98"
      ]
     },
     "execution_count": 139,
     "metadata": {},
     "output_type": "execute_result"
    }
   ],
   "source": [
    "data['Rating'].count()"
   ]
  },
  {
   "cell_type": "code",
   "execution_count": 140,
   "id": "32b9e492-93b1-4b2c-9b59-fb9761557c31",
   "metadata": {},
   "outputs": [
    {
     "name": "stdout",
     "output_type": "stream",
     "text": [
      "Age\n",
      "Outliers =  Series([], Name: Age, dtype: float64)\n",
      "Income\n",
      "Outliers =  Series([], Name: Income, dtype: float64)\n",
      "Num Children\n",
      "Outliers =  82    40.0\n",
      "Name: Num Children, dtype: float64\n",
      "Temperature\n",
      "Outliers =  Series([], Name: Temperature, dtype: float64)\n",
      "Rating\n",
      "Outliers =  57    -3.2\n",
      "99    10.9\n",
      "Name: Rating, dtype: float64\n"
     ]
    }
   ],
   "source": [
    "for col_name in data.select_dtypes(include=np.number).columns[0:]:\n",
    "    print(col_name)\n",
    "    q1 = data[col_name].quantile(0.25)\n",
    "    q3 = data[col_name].quantile(0.75)\n",
    "    iqr = q3 - q1\n",
    "    \n",
    "    low = q1-1.5*iqr\n",
    "    high = q3+1.5*iqr\n",
    "    print(\"Outliers = \",data.loc[(data[col_name] < low) | (data[col_name] > high), col_name])"
   ]
  },
  {
   "cell_type": "code",
   "execution_count": 142,
   "id": "077d5fdf-0674-413d-87ea-31ff1f9fc776",
   "metadata": {},
   "outputs": [],
   "source": [
    "data_num = data.select_dtypes(include = np.number)\n",
    "scaling = StandardScaler()\n",
    "data_scale = pd.DataFrame(scaling.fit_transform(data_num), columns = data_num.columns )"
   ]
  },
  {
   "cell_type": "code",
   "execution_count": 143,
   "id": "7d637872-206d-4887-bfed-632031474ef1",
   "metadata": {},
   "outputs": [
    {
     "data": {
      "text/html": [
       "<div>\n",
       "<style scoped>\n",
       "    .dataframe tbody tr th:only-of-type {\n",
       "        vertical-align: middle;\n",
       "    }\n",
       "\n",
       "    .dataframe tbody tr th {\n",
       "        vertical-align: top;\n",
       "    }\n",
       "\n",
       "    .dataframe thead th {\n",
       "        text-align: right;\n",
       "    }\n",
       "</style>\n",
       "<table border=\"1\" class=\"dataframe\">\n",
       "  <thead>\n",
       "    <tr style=\"text-align: right;\">\n",
       "      <th></th>\n",
       "      <th>Age</th>\n",
       "      <th>Income</th>\n",
       "      <th>Num Children</th>\n",
       "      <th>Temperature</th>\n",
       "      <th>Rating</th>\n",
       "    </tr>\n",
       "  </thead>\n",
       "  <tbody>\n",
       "    <tr>\n",
       "      <th>0</th>\n",
       "      <td>0.073362</td>\n",
       "      <td>-0.572827</td>\n",
       "      <td>-0.750241</td>\n",
       "      <td>-0.106893</td>\n",
       "      <td>-0.504944</td>\n",
       "    </tr>\n",
       "    <tr>\n",
       "      <th>1</th>\n",
       "      <td>1.089262</td>\n",
       "      <td>0.497149</td>\n",
       "      <td>-0.504343</td>\n",
       "      <td>0.135596</td>\n",
       "      <td>-0.093145</td>\n",
       "    </tr>\n",
       "    <tr>\n",
       "      <th>2</th>\n",
       "      <td>-0.082931</td>\n",
       "      <td>-0.607459</td>\n",
       "      <td>0.479251</td>\n",
       "      <td>-0.737365</td>\n",
       "      <td>0.387287</td>\n",
       "    </tr>\n",
       "    <tr>\n",
       "      <th>3</th>\n",
       "      <td>-0.395515</td>\n",
       "      <td>0.815019</td>\n",
       "      <td>-0.258444</td>\n",
       "      <td>1.542034</td>\n",
       "      <td>-0.573578</td>\n",
       "    </tr>\n",
       "    <tr>\n",
       "      <th>4</th>\n",
       "      <td>0.854823</td>\n",
       "      <td>-0.012416</td>\n",
       "      <td>-0.504343</td>\n",
       "      <td>-0.931357</td>\n",
       "      <td>-0.024512</td>\n",
       "    </tr>\n",
       "    <tr>\n",
       "      <th>...</th>\n",
       "      <td>...</td>\n",
       "      <td>...</td>\n",
       "      <td>...</td>\n",
       "      <td>...</td>\n",
       "      <td>...</td>\n",
       "    </tr>\n",
       "    <tr>\n",
       "      <th>93</th>\n",
       "      <td>0.464092</td>\n",
       "      <td>1.456022</td>\n",
       "      <td>-0.258444</td>\n",
       "      <td>0.232592</td>\n",
       "      <td>0.387287</td>\n",
       "    </tr>\n",
       "    <tr>\n",
       "      <th>94</th>\n",
       "      <td>1.245554</td>\n",
       "      <td>0.542895</td>\n",
       "      <td>0.233353</td>\n",
       "      <td>1.396540</td>\n",
       "      <td>1.004986</td>\n",
       "    </tr>\n",
       "    <tr>\n",
       "      <th>95</th>\n",
       "      <td>0.620385</td>\n",
       "      <td>1.730060</td>\n",
       "      <td>-0.258444</td>\n",
       "      <td>-0.640370</td>\n",
       "      <td>0.867720</td>\n",
       "    </tr>\n",
       "    <tr>\n",
       "      <th>96</th>\n",
       "      <td>-0.004784</td>\n",
       "      <td>-0.537733</td>\n",
       "      <td>0.479251</td>\n",
       "      <td>0.184094</td>\n",
       "      <td>5.191613</td>\n",
       "    </tr>\n",
       "    <tr>\n",
       "      <th>97</th>\n",
       "      <td>1.479992</td>\n",
       "      <td>1.101221</td>\n",
       "      <td>0.233353</td>\n",
       "      <td>-1.367838</td>\n",
       "      <td>0.250021</td>\n",
       "    </tr>\n",
       "  </tbody>\n",
       "</table>\n",
       "<p>98 rows × 5 columns</p>\n",
       "</div>"
      ],
      "text/plain": [
       "         Age    Income  Num Children  Temperature    Rating\n",
       "0   0.073362 -0.572827     -0.750241    -0.106893 -0.504944\n",
       "1   1.089262  0.497149     -0.504343     0.135596 -0.093145\n",
       "2  -0.082931 -0.607459      0.479251    -0.737365  0.387287\n",
       "3  -0.395515  0.815019     -0.258444     1.542034 -0.573578\n",
       "4   0.854823 -0.012416     -0.504343    -0.931357 -0.024512\n",
       "..       ...       ...           ...          ...       ...\n",
       "93  0.464092  1.456022     -0.258444     0.232592  0.387287\n",
       "94  1.245554  0.542895      0.233353     1.396540  1.004986\n",
       "95  0.620385  1.730060     -0.258444    -0.640370  0.867720\n",
       "96 -0.004784 -0.537733      0.479251     0.184094  5.191613\n",
       "97  1.479992  1.101221      0.233353    -1.367838  0.250021\n",
       "\n",
       "[98 rows x 5 columns]"
      ]
     },
     "execution_count": 143,
     "metadata": {},
     "output_type": "execute_result"
    }
   ],
   "source": [
    "data_scale"
   ]
  },
  {
   "cell_type": "code",
   "execution_count": 145,
   "id": "15d877b8-08ee-4801-b186-439fe51a02a1",
   "metadata": {},
   "outputs": [
    {
     "data": {
      "text/plain": [
       "Age             0\n",
       "Income          0\n",
       "Is Student      0\n",
       "Num Children    0\n",
       "Temperature     0\n",
       "Rating          0\n",
       "dtype: int64"
      ]
     },
     "execution_count": 145,
     "metadata": {},
     "output_type": "execute_result"
    }
   ],
   "source": [
    "data.isna().sum()"
   ]
  },
  {
   "cell_type": "code",
   "execution_count": 146,
   "id": "f848ff58-6a04-4843-9fe2-0bc6dcf6d7a5",
   "metadata": {},
   "outputs": [
    {
     "name": "stdout",
     "output_type": "stream",
     "text": [
      "Age\n"
     ]
    },
    {
     "data": {
      "image/png": "[encoded data removed]",
      "text/plain": [
       "<Figure size 432x288 with 1 Axes>"
      ]
     },
     "metadata": {
      "needs_background": "light"
     },
     "output_type": "display_data"
    },
    {
     "name": "stdout",
     "output_type": "stream",
     "text": [
      "Income\n"
     ]
    },
    {
     "data": {
      "image/png": "[encoded data removed]",
      "text/plain": [
       "<Figure size 432x288 with 1 Axes>"
      ]
     },
     "metadata": {
      "needs_background": "light"
     },
     "output_type": "display_data"
    },
    {
     "name": "stdout",
     "output_type": "stream",
     "text": [
      "Num Children\n"
     ]
    },
    {
     "data": {
      "image/png": "[encoded data removed]",
      "text/plain": [
       "<Figure size 432x288 with 1 Axes>"
      ]
     },
     "metadata": {
      "needs_background": "light"
     },
     "output_type": "display_data"
    },
    {
     "name": "stdout",
     "output_type": "stream",
     "text": [
      "Temperature\n"
     ]
    },
    {
     "data": {
      "image/png": "[encoded data removed]",
      "text/plain": [
       "<Figure size 432x288 with 1 Axes>"
      ]
     },
     "metadata": {
      "needs_background": "light"
     },
     "output_type": "display_data"
    },
    {
     "name": "stdout",
     "output_type": "stream",
     "text": [
      "Rating\n"
     ]
    },
    {
     "data": {
      "image/png": "[encoded data removed]",
      "text/plain": [
       "<Figure size 432x288 with 1 Axes>"
      ]
     },
     "metadata": {
      "needs_background": "light"
     },
     "output_type": "display_data"
    }
   ],
   "source": [
    "for col in data.select_dtypes(include = np.number).columns:\n",
    "    print(col)\n",
    "    sns.histplot(data[col])\n",
    "    plt.show()"
   ]
  },
  {
   "cell_type": "code",
   "execution_count": 147,
   "id": "31500c0a-a948-4ddf-b6c2-bd9757408a55",
   "metadata": {},
   "outputs": [
    {
     "name": "stdout",
     "output_type": "stream",
     "text": [
      "Is Student\n"
     ]
    },
    {
     "name": "stderr",
     "output_type": "stream",
     "text": [
      "/opt/conda/envs/anaconda-2022.05-py39/lib/python3.9/site-packages/seaborn/_decorators.py:36: FutureWarning: Pass the following variable as a keyword arg: x. From version 0.12, the only valid positional argument will be `data`, and passing other arguments without an explicit keyword will result in an error or misinterpretation.\n",
      "  warnings.warn(\n"
     ]
    },
    {
     "data": {
      "image/png": "[encoded data removed]",
      "text/plain": [
       "<Figure size 1296x1296 with 1 Axes>"
      ]
     },
     "metadata": {
      "needs_background": "light"
     },
     "output_type": "display_data"
    }
   ],
   "source": [
    "for col in data.select_dtypes(exclude = np.number).columns:\n",
    "    print(col)\n",
    "    plt.figure(figsize=(18,18))\n",
    "    sns.countplot(data[col], order=data[col].value_counts().index)\n",
    "    plt.show()"
   ]
  },
  {
   "cell_type": "code",
   "execution_count": null,
   "id": "71f5f820-8c7f-42f5-a137-e909dba3275a",
   "metadata": {},
   "outputs": [],
   "source": []
  }
 ],
 "metadata": {
  "kernelspec": {
   "display_name": "anaconda-2022.05-py39",
   "language": "python",
   "name": "conda-env-anaconda-2022.05-py39-py"
  },
  "language_info": {
   "codemirror_mode": {
    "name": "ipython",
    "version": 3
   },
   "file_extension": ".py",
   "mimetype": "text/x-python",
   "name": "python",
   "nbconvert_exporter": "python",
   "pygments_lexer": "ipython3",
   "version": "3.9.12"
  }
 },
 "nbformat": 4,
 "nbformat_minor": 5
}
